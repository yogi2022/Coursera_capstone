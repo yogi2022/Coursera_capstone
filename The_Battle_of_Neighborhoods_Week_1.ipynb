{
 "cells": [
  {
   "cell_type": "markdown",
   "metadata": {},
   "source": [
    "### The Battle of Neighborhoods Coursera Capstone Project Week 1"
   ]
  },
  {
   "cell_type": "markdown",
   "metadata": {},
   "source": [
    "### By, Yogananda Srihari Prasad Gone"
   ]
  },
  {
   "cell_type": "markdown",
   "metadata": {},
   "source": [
    "#### Review Criteria for week 1 :-"
   ]
  },
  {
   "cell_type": "markdown",
   "metadata": {},
   "source": [
    "1. A description of the problem and a discussion of the background. (15 marks)\n",
    "2. A description of the data and how it will be used to solve the problem. (15 marks) "
   ]
  },
  {
   "cell_type": "markdown",
   "metadata": {},
   "source": [
    "#### The final deliverables of the project :-\n",
    "\n",
    "- Introduction where you discuss the business problem and who would be interested in this project.\n",
    "\n",
    "- Data where you describe the data that will be used to solve the problem and the source of the data.\n",
    "\n",
    "- Methodology section which represents the main component of the report where you discuss and describe any exploratory data analysis that you did, any inferential statistical testing that you performed, if any, and what machine learnings were used and why.\n",
    "\n",
    "- Results section where you discuss the results.\n",
    "\n",
    "- Discussion section where you discuss any observations you noted and any recommendations you can make based on the results.\n",
    "\n",
    "- Conclusion section where you conclude the report."
   ]
  },
  {
   "cell_type": "markdown",
   "metadata": {},
   "source": [
    "#### Importing Libraries"
   ]
  },
  {
   "cell_type": "code",
   "execution_count": 2,
   "metadata": {},
   "outputs": [
    {
     "name": "stdout",
     "output_type": "stream",
     "text": [
      "Libraries imported.\n"
     ]
    }
   ],
   "source": [
    "import numpy as np # library to handle data in a vectorized manner\n",
    "import time\n",
    "import pandas as pd # library for data analsysis\n",
    "pd.set_option('display.max_columns', None)\n",
    "pd.set_option('display.max_rows', None)\n",
    "\n",
    "import json # library to handle JSON files\n",
    "import requests # library to handle requests\n",
    "from pandas.io.json import json_normalize # tranform JSON file into a pandas dataframe\n",
    "\n",
    "from geopy.geocoders import Nominatim # convert an address into latitude and longitude values\n",
    "\n",
    "import folium # map rendering library\n",
    "\n",
    "print('Libraries imported.')"
   ]
  },
  {
   "cell_type": "markdown",
   "metadata": {},
   "source": [
    "## 1. Introduction :-"
   ]
  },
  {
   "cell_type": "markdown",
   "metadata": {},
   "source": [
    "Discussion of the business problem and the people who would be interested in this project."
   ]
  },
  {
   "cell_type": "markdown",
   "metadata": {},
   "source": [
    "### A Small Description and Explaination of the Problem "
   ]
  },
  {
   "cell_type": "markdown",
   "metadata": {},
   "source": [
    "Presently, I am pursuing my graduation in Computer Science and Engineering Stream and working on the areas of Data Science. I live in Hyderabad, India. I currently live within walking distance to RTC X roads and I enjoy many ammenities and venues in the area, such as various popular restaurants like Bawarchi, cafes, food shops, Pizza Shops and entertainment. I have been offered a great opportunity to work on the certain areas of Data Science at my college with my fello students. I am very excited and I want to use this opportunity to practice my learnings in Coursera in order to answer relevant questions arisen. The key question is : How can I find a convenient and enjoyable place similar to mine now in Hyderabad? Certainly, I search about that in Google but the idea is to use and apply myself the learned tools during the course. In order to make a comparison and evaluation of the rental options in RTC X roads, I must set some basis, therefore the apartment in RTC X roads must meet the following things:"
   ]
  },
  {
   "cell_type": "markdown",
   "metadata": {},
   "source": [
    "1. Apartment must be 2 or 3 bedrooms.\n",
    "2. Desired location is near a metro station in the RTC X roads and within 2km radius\n",
    "   price of rent not exceed RS 15,000/- per month.\n",
    "3. Top ammenities in the selected neighborhood shall be similar to current residence\n",
    "4. Desirable to have venues such as coffee shops, Family restaurants, Study Halls, gym and food shops\n",
    "   as a reference, I have included a map of venues near current residence in Hyderabad.\n",
    "5. And also to ensure that Super markets, Schools, Study centers, Library are at wakable distance. And to ensure that there is      no water problem in that particular locality."
   ]
  },
  {
   "cell_type": "markdown",
   "metadata": {},
   "source": [
    "### Challenging Problem"
   ]
  },
  {
   "cell_type": "markdown",
   "metadata": {},
   "source": [
    "The challenge is to find a suitable apartment for rent in RTC X roads, Hyderabad that complies with the demands on location, price and venues. The data required to resolve this challenge is described below:"
   ]
  },
  {
   "cell_type": "markdown",
   "metadata": {},
   "source": [
    "1. Apartment with min 2 bedrooms with monthly rent not to exceed RS 15,000/- permonth\n",
    "2. Unit located within walking distance (2 km) from a metro station in RTC X Roads\n",
    "3. Area with ammenities and venues similar to the ones described for current location"
   ]
  },
  {
   "cell_type": "markdown",
   "metadata": {},
   "source": [
    "### Interested and Enthusiast Audience"
   ]
  },
  {
   "cell_type": "markdown",
   "metadata": {},
   "source": [
    "I believe this is a relevant challenge with valid questions for anyone moving to other large cities in India like Hyderabad, Delhi, Mumbai etc. The same methodology can be applied in accordance to demands as applicable. This case is also applicable for anyone interested in exploring starting or locating a new business in any city. Lastly, it can also serve as a good practical exercise to develop Data Science skills. So Interested Audience can think about it and may show their intrests accordingly. Those people are highly appreciated :)."
   ]
  },
  {
   "cell_type": "markdown",
   "metadata": {},
   "source": [
    "## 2. About Data :-"
   ]
  },
  {
   "cell_type": "markdown",
   "metadata": {},
   "source": [
    "The Description of the data and its sources that will be used to solve the problem are as follows:"
   ]
  },
  {
   "cell_type": "markdown",
   "metadata": {},
   "source": [
    "1. List of Boroughs and neighborhoods of RTC X Roads with their geodata (lattitude and longitude)\n",
    "2. List of Hyderabad metro stations in RTC X Roads with their address location\n",
    "3. List of apartments for rent in RTC X Roads area with their addresses and price\n",
    "4. Preferably, a list of apartment for rent with additional information, such as price, address, area etc\n",
    "5. Venues for each RTC X Roads neighborhood ( than can be clustered)\n",
    "6. Venues for subway metro stations, as needed"
   ]
  },
  {
   "cell_type": "markdown",
   "metadata": {},
   "source": [
    "###  Role of Data to solve the problem. How the Data is used?\n",
    "###  How it will be used to solve the problem"
   ]
  },
  {
   "cell_type": "markdown",
   "metadata": {},
   "source": [
    "The data will be used as follows:"
   ]
  },
  {
   "cell_type": "markdown",
   "metadata": {},
   "source": [
    "1. Use Foursquare and geopy data to map top 10 venues for all RTC X Roads neighborhoods and clustered in groups ( as per Course LAB)\n",
    "\n",
    "2. Use foursquare and geopy data to map the location of metro stations , separately and on top of the above clustered map in order to be able to identify the venues and ammenities near each metro station, or explore each subway location separately\n",
    "\n",
    "3. Use Foursquare and geopy data to map the location of rental places, in some form, linked to the othe important locations.\n",
    "   create a map that depicts, for instance, the average rental price per square ft, around a radious of 2 km around each station - or a similar metrics. I will be able to quickly point to the popups to know the relative price per area.\n",
    "4. Addresses from rental locations will be converted to geodata( lat, long) using Geopy-distance and Nominatim.\n",
    "5. Data will be searched in open data sources if available, from real estate sites if open to reading, libraries or other          government agencies such as LIC."
   ]
  },
  {
   "cell_type": "markdown",
   "metadata": {},
   "source": [
    "The procesing of these DATA will allow to answer the key questions to make a decision:"
   ]
  },
  {
   "cell_type": "markdown",
   "metadata": {},
   "source": [
    "1. what is the cost of rent (per square ft) around a mile radius from each metro station?\n",
    "2. what is the area of RTC X Roads with best rental pricing that meets criteria established?\n",
    "3. What is the distance from work place and the tentative future home?\n",
    "4. What are the venues of the two best places to live? How the prices compare?\n",
    "5. How venues distribute among RTC X Roads neighborhoods and around metro stations?\n",
    "6. Are there tradeoffs between size and price and location?\n",
    "7. Any other interesting statistical data findings of the real estate and overall data."
   ]
  },
  {
   "cell_type": "markdown",
   "metadata": {},
   "source": [
    "#### Reference of venues around current residence in Hyderabad for comparison to RTC X Roads place"
   ]
  },
  {
   "cell_type": "code",
   "execution_count": 3,
   "metadata": {},
   "outputs": [
    {
     "name": "stderr",
     "output_type": "stream",
     "text": [
      "C:\\Users\\YOGESH\\Anaconda3\\lib\\site-packages\\ipykernel_launcher.py:4: DeprecationWarning: Using Nominatim with the default \"geopy/1.22.0\" `user_agent` is strongly discouraged, as it violates Nominatim's ToS https://operations.osmfoundation.org/policies/nominatim/ and may possibly cause 403 and 429 HTTP errors. Please specify a custom `user_agent` with `Nominatim(user_agent=\"my-application\")` or by overriding the default `user_agent`: `geopy.geocoders.options.default_user_agent = \"my-application\"`. In geopy 2.0 this will become an exception.\n",
      "  after removing the cwd from sys.path.\n"
     ]
    },
    {
     "name": "stdout",
     "output_type": "stream",
     "text": [
      "The geograpical coordinate of Hyderabad home are 17.4070321, 78.4968023.\n"
     ]
    }
   ],
   "source": [
    "# RTC X Roads, Hyderabad\n",
    "address = 'RTC X Roads, Hyderabad'\n",
    "\n",
    "geolocator = Nominatim()\n",
    "location = geolocator.geocode(address)\n",
    "latitude = location.latitude\n",
    "longitude = location.longitude\n",
    "print('The geograpical coordinate of Hyderabad home are {}, {}.'.format(latitude, longitude))"
   ]
  },
  {
   "cell_type": "code",
   "execution_count": 4,
   "metadata": {},
   "outputs": [],
   "source": [
    "neighborhood_latitude=17.4070321\n",
    "neighborhood_longitude=78.4968023"
   ]
  },
  {
   "cell_type": "code",
   "execution_count": 12,
   "metadata": {},
   "outputs": [
    {
     "name": "stdout",
     "output_type": "stream",
     "text": [
      "Your credentails:\n",
      "CLIENT_ID: Hidden portion from view\n",
      "CLIENT_SECRET:Hidden portion from view\n"
     ]
    }
   ],
   "source": [
    "CLIENT_ID = 'Hidden portion from view' #  Foursquare ID\n",
    "CLIENT_SECRET = 'Hidden portion from view' #  Foursquare Secret\n",
    "VERSION = '20191225' # Foursquare API version\n",
    "\n",
    "print('Your credentails:')\n",
    "print('CLIENT_ID: ' + CLIENT_ID)\n",
    "print('CLIENT_SECRET:' + CLIENT_SECRET)\n"
   ]
  },
  {
   "cell_type": "code",
   "execution_count": 6,
   "metadata": {},
   "outputs": [],
   "source": [
    "LIMIT = 100 # limit of number of venues returned by Foursquare API\n",
    "radius = 500 # define radius\n",
    "\n",
    "# create URL\n",
    "url = 'https://api.foursquare.com/v2/venues/explore?&client_id={}&client_secret={}&v={}&ll={},{}&radius={}&limit={}'.format(\n",
    "    CLIENT_ID, \n",
    "    CLIENT_SECRET, \n",
    "    VERSION, \n",
    "    neighborhood_latitude, \n",
    "    neighborhood_longitude, \n",
    "    radius, \n",
    "    LIMIT)\n"
   ]
  },
  {
   "cell_type": "code",
   "execution_count": 8,
   "metadata": {},
   "outputs": [],
   "source": [
    "results = requests.get(url).json()"
   ]
  },
  {
   "cell_type": "code",
   "execution_count": 9,
   "metadata": {},
   "outputs": [],
   "source": [
    "# function that extracts the category of the venue\n",
    "def get_category_type(row):\n",
    "    try:\n",
    "        categories_list = row['categories']\n",
    "    except:\n",
    "        categories_list = row['venue.categories']\n",
    "        \n",
    "    if len(categories_list) == 0:\n",
    "        return None\n",
    "    else:\n",
    "        return categories_list[0]['name']"
   ]
  },
  {
   "cell_type": "code",
   "execution_count": 10,
   "metadata": {},
   "outputs": [
    {
     "name": "stderr",
     "output_type": "stream",
     "text": [
      "C:\\Users\\YOGESH\\Anaconda3\\lib\\site-packages\\ipykernel_launcher.py:3: FutureWarning: pandas.io.json.json_normalize is deprecated, use pandas.json_normalize instead\n",
      "  This is separate from the ipykernel package so we can avoid doing imports until\n"
     ]
    },
    {
     "data": {
      "text/html": [
       "<div>\n",
       "<style scoped>\n",
       "    .dataframe tbody tr th:only-of-type {\n",
       "        vertical-align: middle;\n",
       "    }\n",
       "\n",
       "    .dataframe tbody tr th {\n",
       "        vertical-align: top;\n",
       "    }\n",
       "\n",
       "    .dataframe thead th {\n",
       "        text-align: right;\n",
       "    }\n",
       "</style>\n",
       "<table border=\"1\" class=\"dataframe\">\n",
       "  <thead>\n",
       "    <tr style=\"text-align: right;\">\n",
       "      <th></th>\n",
       "      <th>name</th>\n",
       "      <th>categories</th>\n",
       "      <th>lat</th>\n",
       "      <th>lng</th>\n",
       "    </tr>\n",
       "  </thead>\n",
       "  <tbody>\n",
       "    <tr>\n",
       "      <th>0</th>\n",
       "      <td>Bawarchi</td>\n",
       "      <td>Indian Restaurant</td>\n",
       "      <td>17.406369</td>\n",
       "      <td>78.497662</td>\n",
       "    </tr>\n",
       "    <tr>\n",
       "      <th>1</th>\n",
       "      <td>Sudharshan Theatre 35mm</td>\n",
       "      <td>Movie Theater</td>\n",
       "      <td>17.406530</td>\n",
       "      <td>78.495150</td>\n",
       "    </tr>\n",
       "    <tr>\n",
       "      <th>2</th>\n",
       "      <td>Devi 70 MM</td>\n",
       "      <td>Movie Theater</td>\n",
       "      <td>17.406329</td>\n",
       "      <td>78.495409</td>\n",
       "    </tr>\n",
       "    <tr>\n",
       "      <th>3</th>\n",
       "      <td>Crystal Restaurant</td>\n",
       "      <td>Asian Restaurant</td>\n",
       "      <td>17.406608</td>\n",
       "      <td>78.496268</td>\n",
       "    </tr>\n",
       "    <tr>\n",
       "      <th>4</th>\n",
       "      <td>Astoria Restaurant</td>\n",
       "      <td>Indian Restaurant</td>\n",
       "      <td>17.406530</td>\n",
       "      <td>78.497136</td>\n",
       "    </tr>\n",
       "    <tr>\n",
       "      <th>5</th>\n",
       "      <td>Sandhya 70 MM</td>\n",
       "      <td>Movie Theater</td>\n",
       "      <td>17.407053</td>\n",
       "      <td>78.497724</td>\n",
       "    </tr>\n",
       "    <tr>\n",
       "      <th>6</th>\n",
       "      <td>Sri Mayuri Theatre</td>\n",
       "      <td>Movie Theater</td>\n",
       "      <td>17.407557</td>\n",
       "      <td>78.496241</td>\n",
       "    </tr>\n",
       "    <tr>\n",
       "      <th>7</th>\n",
       "      <td>Nandhini Sudha Restaurant</td>\n",
       "      <td>Breakfast Spot</td>\n",
       "      <td>17.403668</td>\n",
       "      <td>78.495264</td>\n",
       "    </tr>\n",
       "  </tbody>\n",
       "</table>\n",
       "</div>"
      ],
      "text/plain": [
       "                        name         categories        lat        lng\n",
       "0                   Bawarchi  Indian Restaurant  17.406369  78.497662\n",
       "1    Sudharshan Theatre 35mm      Movie Theater  17.406530  78.495150\n",
       "2                 Devi 70 MM      Movie Theater  17.406329  78.495409\n",
       "3         Crystal Restaurant   Asian Restaurant  17.406608  78.496268\n",
       "4         Astoria Restaurant  Indian Restaurant  17.406530  78.497136\n",
       "5              Sandhya 70 MM      Movie Theater  17.407053  78.497724\n",
       "6         Sri Mayuri Theatre      Movie Theater  17.407557  78.496241\n",
       "7  Nandhini Sudha Restaurant     Breakfast Spot  17.403668  78.495264"
      ]
     },
     "execution_count": 10,
     "metadata": {},
     "output_type": "execute_result"
    }
   ],
   "source": [
    "venues = results['response']['groups'][0]['items']\n",
    "    \n",
    "SGnearby_venues = json_normalize(venues) # flatten JSON\n",
    "\n",
    "# filter columns\n",
    "filtered_columns = ['venue.name', 'venue.categories', 'venue.location.lat', 'venue.location.lng']\n",
    "SGnearby_venues =SGnearby_venues.loc[:, filtered_columns]\n",
    "\n",
    "# filter the category for each row\n",
    "SGnearby_venues['venue.categories'] = SGnearby_venues.apply(get_category_type, axis=1)\n",
    "\n",
    "# clean columns\n",
    "SGnearby_venues.columns = [col.split(\".\")[-1] for col in SGnearby_venues.columns]\n",
    "\n",
    "SGnearby_venues.head(10)"
   ]
  },
  {
   "cell_type": "markdown",
   "metadata": {},
   "source": [
    "## Map of Hyderabad with venues near residence place - for reference"
   ]
  },
  {
   "cell_type": "code",
   "execution_count": 11,
   "metadata": {},
   "outputs": [
    {
     "data": {
      "text/html": [
       "<div style=\"width:100%;\"><div style=\"position:relative;width:100%;height:0;padding-bottom:60%;\"><iframe src=\"about:blank\" style=\"position:absolute;width:100%;height:100%;left:0;top:0;border:none !important;\" data-html=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 onload=\"this.contentDocument.open();this.contentDocument.write(atob(this.getAttribute('data-html')));this.contentDocument.close();\" allowfullscreen webkitallowfullscreen mozallowfullscreen></iframe></div></div>"
      ],
      "text/plain": [
       "<folium.folium.Map at 0x20a274b6e48>"
      ]
     },
     "execution_count": 11,
     "metadata": {},
     "output_type": "execute_result"
    }
   ],
   "source": [
    "# create map of Singapore place  using latitude and longitude values\n",
    "map_sg = folium.Map(location=[latitude, longitude], zoom_start=20)\n",
    "\n",
    "# add markers to map\n",
    "for lat, lng, label in zip(SGnearby_venues['lat'], SGnearby_venues['lng'], SGnearby_venues['name']):\n",
    "    label = folium.Popup(label, parse_html=True)\n",
    "    folium.RegularPolygonMarker(\n",
    "        [lat, lng],\n",
    "        number_of_sides=4,\n",
    "        radius=10,\n",
    "        popup=label,\n",
    "        color='blue',\n",
    "        fill_color='#0f0f0f',\n",
    "        fill_opacity=0.7,\n",
    "    ).add_to(map_sg)  \n",
    "    \n",
    "map_sg"
   ]
  },
  {
   "cell_type": "markdown",
   "metadata": {},
   "source": [
    "### Hence, For the 1st week the tasks are completed."
   ]
  },
  {
   "cell_type": "markdown",
   "metadata": {},
   "source": [
    "### 2nd Week Include the Following:-"
   ]
  },
  {
   "cell_type": "markdown",
   "metadata": {},
   "source": [
    "For the second week, the final deliverables of the project will be:\n",
    "\n",
    "A link to your Notebook on your Github repository, showing your code. (15 marks)\n",
    "\n",
    "A full report consisting of all of the following components (15 marks):\n",
    "\n",
    "Introduction where you discuss the business problem and who would be interested in this project.\n",
    "\n",
    "Data where you describe the data that will be used to solve the problem and the source of the data.\n",
    "\n",
    "Methodology section which represents the main component of the report where you discuss and describe any exploratory data analysis that you did, any inferential statistical testing that you performed, if any, and what machine learnings were used and why.\n",
    "\n",
    "Results section where you discuss the results.\n",
    "\n",
    "Discussion section where you discuss any observations you noted and any recommendations you can make based on the results.\n",
    "Conclusion section where you conclude the report.\n",
    "\n",
    "Your choice of a presentation or blogpost. (10 marks)"
   ]
  },
  {
   "cell_type": "markdown",
   "metadata": {},
   "source": [
    "### So, in the 2nd week we will do the following work :-"
   ]
  },
  {
   "cell_type": "markdown",
   "metadata": {},
   "source": [
    "- Methodology\n",
    "- Results\n",
    "- Discussion\n",
    "- Conclusion"
   ]
  },
  {
   "cell_type": "markdown",
   "metadata": {},
   "source": [
    "## Thank You"
   ]
  },
  {
   "cell_type": "code",
   "execution_count": null,
   "metadata": {},
   "outputs": [],
   "source": []
  }
 ],
 "metadata": {
  "kernelspec": {
   "display_name": "Python 3",
   "language": "python",
   "name": "python3"
  },
  "language_info": {
   "codemirror_mode": {
    "name": "ipython",
    "version": 3
   },
   "file_extension": ".py",
   "mimetype": "text/x-python",
   "name": "python",
   "nbconvert_exporter": "python",
   "pygments_lexer": "ipython3",
   "version": "3.7.1"
  }
 },
 "nbformat": 4,
 "nbformat_minor": 4
}
